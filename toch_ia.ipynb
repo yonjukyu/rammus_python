{
 "cells": [
  {
   "cell_type": "markdown",
   "metadata": {},
   "source": [
    "**Tocrch**"
   ]
  },
  {
   "cell_type": "code",
   "execution_count": 6,
   "metadata": {},
   "outputs": [
    {
     "name": "stdout",
     "output_type": "stream",
     "text": [
      "1 :  tensor(0.9647)\n",
      "2 :  tensor(0.2187)\n"
     ]
    }
   ],
   "source": [
    "from torch import Tensor, nn, cat\n",
    "from sentence_transformers import SentenceTransformer\n",
    "from sklearn.metrics.pairwise import cosine_similarity\n",
    "\n",
    "model = SentenceTransformer('symanto/sn-xlm-roberta-base-snli-mnli-anli-xnli')\n",
    "\n",
    "\n"
   ]
  },
  {
   "cell_type": "code",
   "execution_count": 9,
   "metadata": {},
   "outputs": [
    {
     "name": "stdout",
     "output_type": "stream",
     "text": [
      "1 :  tensor(0.5794)\n"
     ]
    }
   ],
   "source": [
    "text = \"parapluie\"\n",
    "text2 = \"prlaiuepl\"\n",
    "vect = model.encode(text, convert_to_tensor=True)\n",
    "vect2 = model.encode(text2, convert_to_tensor=True)\n",
    "\n",
    "cos = nn.CosineSimilarity(dim=0)\n",
    "print(\"1 : \", cos(vect, vect2))"
   ]
  }
 ],
 "metadata": {
  "kernelspec": {
   "display_name": "venv310",
   "language": "python",
   "name": "python3"
  },
  "language_info": {
   "codemirror_mode": {
    "name": "ipython",
    "version": 3
   },
   "file_extension": ".py",
   "mimetype": "text/x-python",
   "name": "python",
   "nbconvert_exporter": "python",
   "pygments_lexer": "ipython3",
   "version": "3.10.0"
  }
 },
 "nbformat": 4,
 "nbformat_minor": 2
}
