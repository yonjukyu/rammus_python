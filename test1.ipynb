{
 "cells": [
  {
   "cell_type": "markdown",
   "metadata": {},
   "source": [
    "### Erreur"
   ]
  },
  {
   "cell_type": "code",
   "execution_count": 8,
   "metadata": {},
   "outputs": [],
   "source": [
    "class EmptyQuestionException(Exception):\n",
    "    def __init__(self, message=\"Erreur : La question est nulle\"):\n",
    "        self.message = message\n",
    "        super().__init__(self.message)"
   ]
  },
  {
   "cell_type": "markdown",
   "metadata": {},
   "source": [
    "### Decorateur"
   ]
  },
  {
   "cell_type": "code",
   "execution_count": 9,
   "metadata": {},
   "outputs": [],
   "source": [
    "def talking(method):\n",
    "        def decorator(self, *args, **kwargs):\n",
    "            try:\n",
    "                result = method(self, *args, **kwargs)\n",
    "\n",
    "                if isinstance(result, list):\n",
    "                    for item in result:\n",
    "                        print(f\"{self.nom} : {item}\")\n",
    "                else:\n",
    "                    print(f\"{self.nom} : {result}\")\n",
    "\n",
    "                return result\n",
    "            except Exception as e:\n",
    "                print(e)\n",
    "\n",
    "        return decorator"
   ]
  },
  {
   "cell_type": "markdown",
   "metadata": {},
   "source": [
    "### Polymorphisme"
   ]
  },
  {
   "cell_type": "code",
   "execution_count": 10,
   "metadata": {},
   "outputs": [
    {
     "name": "stdout",
     "output_type": "stream",
     "text": [
      "Paul est un homme et a 25 ans.\n",
      "Abruti !! division by zero\n",
      "Abruti !! division by zero\n",
      "Abruti !! division by zero\n",
      "pppñn\n"
     ]
    }
   ],
   "source": [
    "class Humain:\n",
    "    def __init__(self, nom, age, sex=\"Homme\"):\n",
    "        self.nom = nom\n",
    "        self.age = age\n",
    "        self.sex = sex\n",
    "    \n",
    "    @talking\n",
    "    def parler(self, txt):\n",
    "        return txt\n",
    "        \n",
    "\n",
    "    @talking\n",
    "    def se_presenter(self):\n",
    "        try:\n",
    "            return f\"je m'appelle {self.nom}\"\n",
    "        except Exception as e: \n",
    "            print(e)\n",
    "    \n",
    "    def decolle(self):\n",
    "        result = 0\n",
    "        try:\n",
    "            result = 100/0\n",
    "        except ZeroDivisionError as e:\n",
    "            print(f\"Abruti !! {e}\")\n",
    "        except Exception as e:\n",
    "            print(f\"An error occurred: {e}\")\n",
    "        finally:\n",
    "            return result\n",
    "        \n",
    "    def __str__(self):\n",
    "        return f\"{self.nom}\"\n",
    "            \n",
    "\n",
    "paul = Humain(\"Paul\", 25, 'homme')\n",
    "print(f\"{paul.nom} est un {paul.sex} et a {paul.age} ans.\")\n",
    "\n",
    "humains = []\n",
    "humains.append(Humain('pppñn', 25))\n",
    "humains.append(Humain('jean', 35, 'homme'))\n",
    "humains.append(Humain('jack', 55, 'homme'))\n",
    "humains\n",
    "\n",
    "result = [humain.decolle() for humain in humains]\n",
    "print(Humain('pppñn', 25))"
   ]
  },
  {
   "cell_type": "markdown",
   "metadata": {},
   "source": [
    "### L'étudiant"
   ]
  },
  {
   "cell_type": "code",
   "execution_count": 11,
   "metadata": {},
   "outputs": [
    {
     "name": "stdout",
     "output_type": "stream",
     "text": [
      "Paul est entré en classe\n",
      "Paul : je m'appelle Paul\n",
      "Jack est entré en classe\n",
      "Jack : je m'appelle Jack\n",
      "Jack : la réponse à la question : Quel est ton nom ? est : je ne sais pas\n"
     ]
    },
    {
     "data": {
      "text/plain": [
       "'la réponse à la question : Quel est ton nom ? est : je ne sais pas'"
      ]
     },
     "execution_count": 11,
     "metadata": {},
     "output_type": "execute_result"
    }
   ],
   "source": [
    "class Etudiant(Humain):\n",
    "    def __init__(self, nom, age, sex, uid):\n",
    "        super().__init__(nom, age, sex)\n",
    "        self.uid = uid\n",
    "\n",
    "    def entrer(self):\n",
    "        try:\n",
    "            print(f'{self.nom} est entré en classe')\n",
    "            self.se_presenter()\n",
    "        except Exception as e:\n",
    "            print(e) \n",
    "            \n",
    "    \n",
    "    @talking\n",
    "    def repondre(self, question):\n",
    "        try:\n",
    "            if question == None or question == \"\":\n",
    "                raise EmptyQuestionException()\n",
    "            return f\"la réponse à la question : {question} est : je ne sais pas\"\n",
    "        except Exception as e:\n",
    "            print(e)\n",
    "            return \"Vous n'avez rien dit monsieur\"\n",
    "\n",
    "\n",
    "paul = Etudiant('Paul', 22, \"Homme\", 1234)\n",
    "jack = Etudiant(age=12, nom=\"Jack\", sex=\"Homme\", uid=1234)\n",
    "paul.entrer()\n",
    "jack.entrer()\n",
    "\n",
    "jack.repondre(\"Quel est ton nom ?\")"
   ]
  },
  {
   "cell_type": "markdown",
   "metadata": {},
   "source": [
    "### LE MASTER"
   ]
  },
  {
   "cell_type": "code",
   "execution_count": 12,
   "metadata": {},
   "outputs": [
    {
     "name": "stdout",
     "output_type": "stream",
     "text": [
      "martin : je m'appelle martin\n",
      "martin : je salue tout le monde\n",
      "martin : (...)\n",
      "Erreur : La question est nulle\n",
      "Paul : Vous n'avez rien dit monsieur\n"
     ]
    }
   ],
   "source": [
    "class Professeur(Humain):\n",
    "    def __init__(self,nom,age,sex,matiere):\n",
    "        super().__init__(nom,age,sex)\n",
    "        self.matiere = matiere\n",
    "        \n",
    "    @talking\n",
    "    def se_presenter(self):\n",
    "        return [\n",
    "            f\"je m'appelle {self.nom}\",\n",
    "            f\"je salue tout le monde\"\n",
    "                ] \n",
    "        \n",
    "    def questionner(self, question, etudiant):\n",
    "        try:\n",
    "            if question == None or question == \"\":\n",
    "                self.parler(\"(...)\")\n",
    "            else :\n",
    "                self.parler(question)\n",
    "        except Exception as e :\n",
    "            print(e)\n",
    "        finally:\n",
    "            etudiant.repondre(question)\n",
    "      \n",
    "martin = Professeur(\"martin\",16,\"Femme\", \"Art plastique\")\n",
    "martin.se_presenter()\n",
    "martin.questionner(\"\", paul)"
   ]
  }
 ],
 "metadata": {
  "kernelspec": {
   "display_name": "Python 3",
   "language": "python",
   "name": "python3"
  },
  "language_info": {
   "codemirror_mode": {
    "name": "ipython",
    "version": 3
   },
   "file_extension": ".py",
   "mimetype": "text/x-python",
   "name": "python",
   "nbconvert_exporter": "python",
   "pygments_lexer": "ipython3",
   "version": "3.12.0"
  }
 },
 "nbformat": 4,
 "nbformat_minor": 2
}
