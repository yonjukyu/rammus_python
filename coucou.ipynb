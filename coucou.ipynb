{
 "cells": [
  {
   "cell_type": "code",
   "execution_count": 1,
   "metadata": {},
   "outputs": [
    {
     "name": "stderr",
     "output_type": "stream",
     "text": [
      "Downloading: \"https://github.com/snakers4/silero-models/zipball/master\" to C:\\Users\\hugod/.cache\\torch\\hub\\master.zip\n",
      "100%|██████████| 54.4M/54.4M [00:01<00:00, 49.2MB/s]\n"
     ]
    },
    {
     "name": "stdout",
     "output_type": "stream",
     "text": [
      "<class 'torch.Tensor'>\n"
     ]
    }
   ],
   "source": [
    "import torch\n",
    "import sounddevice as sd\n",
    "\n",
    "language = 'fr'\n",
    "speaker = 'vr_fr'\n",
    "device = torch.device('cpu')\n",
    "model, _ = torch.hub.load(repo_or_dir='snakers4/silero-models',\n",
    "model='silero_tts',\n",
    "language=language,\n",
    "speaker='v3_fr', force_reload=True)\n"
   ]
  },
  {
   "cell_type": "code",
   "execution_count": 12,
   "metadata": {},
   "outputs": [
    {
     "name": "stdout",
     "output_type": "stream",
     "text": [
      "<class 'torch.Tensor'>\n"
     ]
    }
   ],
   "source": [
    "\n",
    "from asyncio import sleep\n",
    "\n",
    "audio = model.apply_tts(text=\"\",speaker='fr_4')\n",
    "print(type(audio))\n",
    "sd.play(audio.numpy().squeeze(), samplerate=44000)"
   ]
  }
 ],
 "metadata": {
  "kernelspec": {
   "display_name": "venv310",
   "language": "python",
   "name": "python3"
  },
  "language_info": {
   "codemirror_mode": {
    "name": "ipython",
    "version": 3
   },
   "file_extension": ".py",
   "mimetype": "text/x-python",
   "name": "python",
   "nbconvert_exporter": "python",
   "pygments_lexer": "ipython3",
   "version": "3.10.0"
  }
 },
 "nbformat": 4,
 "nbformat_minor": 2
}
